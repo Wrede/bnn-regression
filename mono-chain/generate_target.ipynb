{
 "cells": [
  {
   "cell_type": "code",
   "execution_count": 2,
   "id": "bright-treaty",
   "metadata": {},
   "outputs": [],
   "source": [
    "import numpy as np\n",
    "import gillespy2\n",
    "from gillespy2 import Model, Species, Parameter, Reaction, Event, \\\n",
    "                      EventTrigger, EventAssignment, RateRule, \\\n",
    "                      AssignmentRule, FunctionDefinition\n",
    "from gillespy2 import SSACSolver\n",
    "import matplotlib.pyplot as plt"
   ]
  },
  {
   "cell_type": "code",
   "execution_count": 3,
   "id": "light-mounting",
   "metadata": {},
   "outputs": [],
   "source": [
    "class Chapter2(Model):\n",
    "    def __init__(self, parameter_values=None):\n",
    "        Model.__init__(self, name=\"chapter2\")\n",
    "        self.volume = 1\n",
    "\n",
    "        # Parameters\n",
    "        self.add_parameter(Parameter(name=\"birth_A\", expression=\"1\"))\n",
    "        self.add_parameter(Parameter(name=\"birth_B\", expression=\"0.1\"))\n",
    "        self.add_parameter(Parameter(name=\"death_B\", expression=\"0.05\"))\n",
    "\n",
    "        # Variables\n",
    "        self.add_species(Species(name=\"A\", initial_value=100, mode=\"discrete\"))\n",
    "        self.add_species(Species(name=\"B\", initial_value=0, mode=\"discrete\"))\n",
    "\n",
    "        # Reactions\n",
    "        self.add_reaction(Reaction(name=\"birthA\", reactants={}, products={'A': 1}, rate=self.listOfParameters[\"birth_A\"]))\n",
    "        self.add_reaction(Reaction(name=\"birthB\", reactants={'B': 1}, products={}, rate=self.listOfParameters[\"death_B\"]))\n",
    "        self.add_reaction(Reaction(name=\"birthC\", reactants={'A': 1}, products={'B': 1}, rate=self.listOfParameters[\"birth_B\"]))\n",
    "\n",
    "        # Timespan\n",
    "        self.timespan(np.arange(0, 100, 1))"
   ]
  },
  {
   "cell_type": "code",
   "execution_count": 5,
   "id": "armed-mercy",
   "metadata": {},
   "outputs": [],
   "source": [
    "model = Chapter2()\n",
    "res = model.run(solver=SSACSolver, seed=3)"
   ]
  },
  {
   "cell_type": "code",
   "execution_count": 6,
   "id": "organized-batch",
   "metadata": {},
   "outputs": [
    {
     "data": {
      "text/plain": [
       "[<matplotlib.lines.Line2D at 0x7f9ec1bd4e50>]"
      ]
     },
     "execution_count": 6,
     "metadata": {},
     "output_type": "execute_result"
    },
    {
     "data": {
      "image/png": "[encoded data removed]",
      "text/plain": [
       "<Figure size 432x288 with 1 Axes>"
      ]
     },
     "metadata": {
      "needs_background": "light"
     },
     "output_type": "display_data"
    }
   ],
   "source": [
    "plt.plot(res['A'])\n",
    "plt.plot(res['B'])"
   ]
  },
  {
   "cell_type": "code",
   "execution_count": 7,
   "id": "secret-contractor",
   "metadata": {},
   "outputs": [],
   "source": [
    "prey = res['A']\n",
    "predator = res['B']\n",
    "\n",
    "res = np.vstack([prey, predator])[np.newaxis,:,:]"
   ]
  },
  {
   "cell_type": "code",
   "execution_count": 9,
   "id": "isolated-telephone",
   "metadata": {},
   "outputs": [],
   "source": [
    "np.save('target_ts', res)"
   ]
  },
  {
   "cell_type": "code",
   "execution_count": null,
   "id": "color-hudson",
   "metadata": {},
   "outputs": [],
   "source": []
  }
 ],
 "metadata": {
  "kernelspec": {
   "display_name": "Python 3",
   "language": "python",
   "name": "python3"
  },
  "language_info": {
   "codemirror_mode": {
    "name": "ipython",
    "version": 3
   },
   "file_extension": ".py",
   "mimetype": "text/x-python",
   "name": "python",
   "nbconvert_exporter": "python",
   "pygments_lexer": "ipython3",
   "version": "3.8.5"
  }
 },
 "nbformat": 4,
 "nbformat_minor": 5
}
