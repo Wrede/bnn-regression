{
 "cells": [
  {
   "cell_type": "code",
   "execution_count": 1,
   "metadata": {},
   "outputs": [],
   "source": [
    "import numpy as np\n",
    "import sciope\n",
    "\n",
    "from sciope.utilities.priors.uniform_prior import UniformPrior\n",
    "from sciope.utilities.summarystats.identity import Identity\n",
    "from sciope.utilities.distancefunctions.euclidean import EuclideanDistance\n",
    "from sciope.utilities.perturbationkernels.multivariate_normal import MultivariateNormalKernel\n",
    "from sciope.utilities.epsilonselectors.relative_epsilon_selector import RelativeEpsilonSelector\n",
    "from sciope.utilities.epsilonselectors.absolute_epsilon_selector import AbsoluteEpsilonSelector\n",
    "\n",
    "from sciope.inference.abc_inference import ABC\n",
    "from sciope.inference.smc_abc import SMCABC\n",
    "from sciope.inference.rep_smc_abc import ReplenishmentSMCABC\n",
    "\n",
    "import matplotlib.pyplot as plt\n",
    "\n",
    "import logging\n",
    "logger = logging.getLogger()\n",
    "logger.setLevel(logging.ERROR)"
   ]
  },
  {
   "cell_type": "code",
   "execution_count": 2,
   "metadata": {},
   "outputs": [],
   "source": [
    "def simulator(param, n=100):\n",
    "    \"\"\"\n",
    "    Simulate a given parameter combination.\n",
    "\n",
    "    Parameters\n",
    "    ----------\n",
    "    param : vector or 1D array\n",
    "        Parameters to simulate (\\theta).\n",
    "    n : integer\n",
    "        Time series length\n",
    "    \"\"\"\n",
    "    m = len(param)\n",
    "    g = np.random.normal(0, 1, n)\n",
    "    gy = np.random.normal(0, 0.3, n)\n",
    "    y = np.zeros(n)\n",
    "    x = np.zeros(n)\n",
    "    for t in range(0, n):\n",
    "        x[t] += g[t]\n",
    "        for p in range(0, np.minimum(t, m)):\n",
    "            x[t] += g[t - 1 - p] * param[p]\n",
    "        y[t] = x[t] + gy[t]\n",
    "    \n",
    "    return np.reshape(y, (1,1,100))"
   ]
  },
  {
   "cell_type": "markdown",
   "metadata": {},
   "source": [
    "# Data"
   ]
  },
  {
   "cell_type": "code",
   "execution_count": 2,
   "metadata": {},
   "outputs": [],
   "source": [
    "#target_ts = np.load('target_ts.npy')\n",
    "obs_data = np.load('target_ts.npy')"
   ]
  },
  {
   "cell_type": "code",
   "execution_count": 3,
   "metadata": {},
   "outputs": [
    {
     "data": {
      "text/plain": [
       "(1, 100, 1)"
      ]
     },
     "execution_count": 3,
     "metadata": {},
     "output_type": "execute_result"
    }
   ],
   "source": [
    "obs_data.shape"
   ]
  },
  {
   "cell_type": "code",
   "execution_count": 4,
   "metadata": {},
   "outputs": [],
   "source": [
    "obs_data = np.reshape(obs_data, (1, 1, 100))"
   ]
  },
  {
   "cell_type": "code",
   "execution_count": 6,
   "metadata": {},
   "outputs": [
    {
     "data": {
      "text/plain": [
       "[<matplotlib.lines.Line2D at 0x7f2fc2f15250>]"
      ]
     },
     "execution_count": 6,
     "metadata": {},
     "output_type": "execute_result"
    },
    {
     "data": {
      "image/png": "[encoded data removed]",
      "text/plain": [
       "<Figure size 432x288 with 1 Axes>"
      ]
     },
     "metadata": {
      "needs_background": "light"
     },
     "output_type": "display_data"
    }
   ],
   "source": [
    "plt.plot(obs_data[0].T)"
   ]
  },
  {
   "cell_type": "markdown",
   "metadata": {},
   "source": [
    "# Prior Distributions"
   ]
  },
  {
   "cell_type": "markdown",
   "metadata": {},
   "source": [
    "true = [0.6, 0.2]"
   ]
  },
  {
   "cell_type": "code",
   "execution_count": 7,
   "metadata": {},
   "outputs": [],
   "source": [
    "parameter_names = ['k1', 'k2']\n",
    "\n",
    "lower_bounds = [-2, -1]\n",
    "upper_bounds = [2, 1]\n",
    "\n",
    "prior = UniformPrior(np.array(lower_bounds), np.array(upper_bounds))"
   ]
  },
  {
   "cell_type": "markdown",
   "metadata": {},
   "source": [
    "# Summary Statistics and Distance Function"
   ]
  },
  {
   "cell_type": "markdown",
   "metadata": {},
   "source": [
    "### Statistics and Euclidean Distance"
   ]
  },
  {
   "cell_type": "code",
   "execution_count": 61,
   "metadata": {},
   "outputs": [],
   "source": [
    "distance_func = EuclideanDistance()"
   ]
  },
  {
   "cell_type": "code",
   "execution_count": 35,
   "metadata": {},
   "outputs": [],
   "source": [
    "from sciope.utilities.summarystats import auto_tsfresh\n",
    "\n",
    "default_fc_params = {\n",
    "                     'variance':None,\n",
    "                     'autocorrelation':\n",
    "                         [{'lag':1},\n",
    "                          {'lag':2}]}\n",
    "\n",
    "summaries = auto_tsfresh.SummariesTSFRESH(features=default_fc_params)"
   ]
  },
  {
   "cell_type": "code",
   "execution_count": 61,
   "metadata": {},
   "outputs": [
    {
     "data": {
      "text/plain": [
       "array([[ 1.06345798, -0.10766169,  0.18812816]])"
      ]
     },
     "execution_count": 61,
     "metadata": {},
     "output_type": "execute_result"
    }
   ],
   "source": [
    "#test\n",
    "summaries.compute(simulator([0.1,0.2]))"
   ]
  },
  {
   "cell_type": "markdown",
   "metadata": {},
   "source": [
    "# Inference"
   ]
  },
  {
   "cell_type": "markdown",
   "metadata": {},
   "source": [
    "### Using ABC-SMC\n"
   ]
  },
  {
   "cell_type": "code",
   "execution_count": null,
   "metadata": {},
   "outputs": [],
   "source": [
    "from sciope.inference.smc_abc import SMCABC"
   ]
  },
  {
   "cell_type": "code",
   "execution_count": 53,
   "metadata": {},
   "outputs": [
    {
     "name": "stdout",
     "output_type": "stream",
     "text": [
      "statring run0\n",
      "Determining initial population using 20\n",
      "Starting epsilon = 0.7253871151081972\n",
      "Starting epsilon = 0.34903585949235433\n",
      "Starting epsilon = 0.18546637673857977\n",
      "Starting epsilon = 0.1052172322919937\n",
      "Starting epsilon = 0.06049133273847076\n",
      "CPU times: user 39min 10s, sys: 2min 45s, total: 41min 56s\n",
      "Wall time: 39min 49s\n",
      "statring run1\n",
      "Determining initial population using 20\n",
      "Starting epsilon = 0.7100442510861815\n",
      "Starting epsilon = 0.3411904875278523\n",
      "Starting epsilon = 0.18435838376866998\n",
      "Starting epsilon = 0.10160641010440132\n",
      "Starting epsilon = 0.05827375287116587\n",
      "CPU times: user 43min 20s, sys: 3min 2s, total: 46min 22s\n",
      "Wall time: 44min 2s\n",
      "statring run2\n",
      "Determining initial population using 20\n",
      "Starting epsilon = 0.7420393197071374\n",
      "Starting epsilon = 0.35237083019429616\n",
      "Starting epsilon = 0.1844659262070908\n",
      "Starting epsilon = 0.1023284205480118\n",
      "Starting epsilon = 0.05875373853814394\n",
      "CPU times: user 41min 4s, sys: 2min 51s, total: 43min 55s\n",
      "Wall time: 41min 42s\n",
      "statring run3\n",
      "Determining initial population using 20\n",
      "Starting epsilon = 0.7289411240156651\n",
      "Starting epsilon = 0.34759917608557117\n",
      "Starting epsilon = 0.18517235549338695\n",
      "Starting epsilon = 0.1035517634709118\n",
      "Starting epsilon = 0.05925735671668478\n",
      "CPU times: user 42min 2s, sys: 3min 1s, total: 45min 4s\n",
      "Wall time: 42min 47s\n",
      "statring run4\n",
      "Determining initial population using 20\n",
      "Starting epsilon = 0.7266956621400129\n",
      "Starting epsilon = 0.34577796732065136\n",
      "Starting epsilon = 0.18757459615531769\n",
      "Starting epsilon = 0.10625302647905191\n",
      "Starting epsilon = 0.062418922831935356\n",
      "CPU times: user 37min 9s, sys: 2min 41s, total: 39min 51s\n",
      "Wall time: 37min 50s\n",
      "statring run5\n",
      "Determining initial population using 20\n",
      "Starting epsilon = 0.7575442944403842\n",
      "Starting epsilon = 0.3650029808036036\n",
      "Starting epsilon = 0.19013024519411742\n",
      "Starting epsilon = 0.1089123870235921\n",
      "Starting epsilon = 0.06199840241844587\n",
      "CPU times: user 37min 38s, sys: 2min 43s, total: 40min 22s\n",
      "Wall time: 38min 19s\n",
      "statring run6\n",
      "Determining initial population using 20\n",
      "Starting epsilon = 0.7315041317506197\n",
      "Starting epsilon = 0.3411069688337108\n",
      "Starting epsilon = 0.18282580905207854\n",
      "Starting epsilon = 0.10243229935059506\n",
      "Starting epsilon = 0.05900910918109742\n",
      "CPU times: user 43min 53s, sys: 3min 11s, total: 47min 4s\n",
      "Wall time: 44min 41s\n",
      "statring run7\n",
      "Determining initial population using 20\n",
      "Starting epsilon = 0.7435312205914948\n",
      "Starting epsilon = 0.34900875857417496\n",
      "Starting epsilon = 0.18509276288072488\n",
      "Starting epsilon = 0.10307077486584129\n",
      "Starting epsilon = 0.05949176040918751\n",
      "CPU times: user 43min 27s, sys: 3min 9s, total: 46min 36s\n",
      "Wall time: 44min 15s\n",
      "statring run8\n",
      "Determining initial population using 20\n",
      "Starting epsilon = 0.7763328629012106\n",
      "Starting epsilon = 0.3651080264837129\n",
      "Starting epsilon = 0.19103503145267928\n",
      "Starting epsilon = 0.10615339693475954\n",
      "Starting epsilon = 0.060555995899607855\n",
      "CPU times: user 41min 25s, sys: 3min, total: 44min 26s\n",
      "Wall time: 42min 11s\n",
      "statring run9\n",
      "Determining initial population using 20\n",
      "Starting epsilon = 0.7654502793927678\n",
      "Starting epsilon = 0.36287755669123345\n",
      "Starting epsilon = 0.19173748837207175\n",
      "Starting epsilon = 0.10837662498864029\n",
      "Starting epsilon = 0.06270473523438999\n",
      "CPU times: user 38min 42s, sys: 2min 47s, total: 41min 30s\n",
      "Wall time: 39min 24s\n",
      "CPU times: user 6h 47min 55s, sys: 29min 14s, total: 7h 17min 10s\n",
      "Wall time: 6h 55min 4s\n"
     ]
    }
   ],
   "source": [
    "# Several runs to evaluate robustness, takes a long time to run. \n",
    "# If one like to just test the code change tot_runs\n",
    "\n",
    "results = []\n",
    "tot_runs = 10\n",
    "\n",
    "for i in range(tot_runs):\n",
    "    print(f'statring run{i}')\n",
    "\n",
    "    max_rounds = 6\n",
    "    eps_selector = RelativeEpsilonSelector(20, max_rounds)\n",
    "\n",
    "    smcabc = SMCABC(obs_data, # Observed Dataset\n",
    "              simulator, # Simulator method\n",
    "              prior, # Prior\n",
    "              summaries_function=summaries.compute\n",
    "              )\n",
    "\n",
    "    %time smc_abc_results = smcabc.infer(num_samples = 3000, batch_size = 1, chunk_size=1, eps_selector=eps_selector)\n",
    "\n",
    "    results.append(smc_abc_results)"
   ]
  },
  {
   "cell_type": "code",
   "execution_count": 54,
   "metadata": {},
   "outputs": [],
   "source": [
    "#Get posterior samples and the number of candidate trials in each round\n",
    "smc_posterios = []\n",
    "smc_trail_count = []\n",
    "\n",
    "for i in results:\n",
    "    run = []\n",
    "    trial = []\n",
    "    for j in i:\n",
    "        run.append(j['accepted_samples'])\n",
    "        trial.append(j['trial_count'])\n",
    "    smc_posterios.append(run)\n",
    "    smc_trail_count.append(trial)"
   ]
  },
  {
   "cell_type": "code",
   "execution_count": 55,
   "metadata": {},
   "outputs": [],
   "source": [
    "smc_posteriors = np.array(smc_posterios)\n",
    "smc_trail_count = np.array(smc_trail_count)"
   ]
  },
  {
   "cell_type": "code",
   "execution_count": 57,
   "metadata": {},
   "outputs": [],
   "source": [
    "#Save data\n",
    "ID = 'data'\n",
    "    try:\n",
    "        os.mkdir(ID)\n",
    "    except FileExistsError:\n",
    "        print(f'{ID} folder already exists, continue...')\n",
    "\n",
    "np.save(f'{ID}/smcabc_trails_10gen', smc_trail_count)\n",
    "np.save(f'{ID}/smcabc_post_10gen', smc_posteriors)"
   ]
  }
 ],
 "metadata": {
  "kernelspec": {
   "display_name": "Python 3",
   "language": "python",
   "name": "python3"
  },
  "language_info": {
   "codemirror_mode": {
    "name": "ipython",
    "version": 3
   },
   "file_extension": ".py",
   "mimetype": "text/x-python",
   "name": "python",
   "nbconvert_exporter": "python",
   "pygments_lexer": "ipython3",
   "version": "3.8.5"
  }
 },
 "nbformat": 4,
 "nbformat_minor": 2
}
