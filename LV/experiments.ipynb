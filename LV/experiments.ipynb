{
 "cells": [
  {
   "cell_type": "code",
   "execution_count": null,
   "metadata": {},
   "outputs": [],
   "source": [
    "from run_bnn import bnn_experiment, run_bnn\n",
    "from run_sbi import sbi_experiment, run_snpe, count_parameters"
   ]
  },
  {
   "cell_type": "markdown",
   "metadata": {},
   "source": [
    "# Run ABC (Reproducibility)\n",
    "run the script run_abc.py to generate all the necessary data from the ABC-SMC sampler. Alternatively one can directly discover and tune the notebook: abc_smc.ipynb.\n",
    "\n",
    "Will compute and store the following files \n",
    "* smcabc_posterior_5gen.npy - posterior samples\n",
    "* smcabc_posterior_5gen_time.npy - elapsed time\n",
    "* smcabc_posterior_5gen_res.npy - posterior object"
   ]
  },
  {
   "cell_type": "code",
   "execution_count": null,
   "metadata": {},
   "outputs": [],
   "source": [
    "%run run_abc.py"
   ]
  },
  {
   "cell_type": "markdown",
   "metadata": {},
   "source": [
    "# Run SNPE-C (reproducibility)\n",
    "And finally run the SNPE (sbi package) script.\n",
    "\n",
    "Generating the following files\n",
    "* SBI_10_10gen_large.npy - sbi posterior object* SBI_10_10gen_large_sample.npy ' posterior samples\n",
    "* SBI_10_10gen_large_sample_times.npy - elapsed times"
   ]
  },
  {
   "cell_type": "code",
   "execution_count": null,
   "metadata": {},
   "outputs": [],
   "source": [
    "sbi_experiment()"
   ]
  },
  {
   "cell_type": "markdown",
   "metadata": {},
   "source": [
    "## Custom SNPE (Testing)\n",
    "Similar to BNN we supply the cell for a more custom run of the SNPE call, however, here we only easly allow to tune the number of runs and generations (rounds in paper)."
   ]
  },
  {
   "cell_type": "code",
   "execution_count": null,
   "metadata": {},
   "outputs": [],
   "source": [
    "sbi_post, sbi_times, snpe_posteriors = run_snpe(total_runs=1, num_generation=1, seed=0)"
   ]
  },
  {
   "cell_type": "code",
   "execution_count": null,
   "metadata": {},
   "outputs": [],
   "source": [
    "ID = 'data'\n",
    "np.save(f'{ID}/sbi_{ID}_post', sbi_post)\n",
    "np.save(f'{ID}/sbi_{ID}_time', sbi_time)"
   ]
  },
  {
   "cell_type": "code",
   "execution_count": null,
   "metadata": {},
   "outputs": [],
   "source": [
    "# Take the DirectPosterior to get the NN\n",
    "test = snpe_posteriors[0]"
   ]
  },
  {
   "cell_type": "code",
   "execution_count": null,
   "metadata": {},
   "outputs": [],
   "source": [
    "count_parameters(test.net)"
   ]
  },
  {
   "cell_type": "markdown",
   "metadata": {},
   "source": [
    "# Run BNN (Reproducibility)\n",
    "Similar to above, the script run_bnn.py will generate all the files from the experiments regarding the BCNN approach explored in the paper.\n",
    "\n",
    "## The following files are produced\n",
    "5 repeated posterior estimations, over 10 rounds each and generating 2500 new samples each round. Output is saved under\n",
    "* bnn_res_theta_5x10x2500.npy - posterior.\n",
    "* bnn_res_proposal_5x10x2500.npy - the proposal prior.\n",
    "* bnn_res_time_5x10x2500.npy - time elapsed."
   ]
  },
  {
   "cell_type": "code",
   "execution_count": 4,
   "metadata": {},
   "outputs": [
    {
     "ename": "SyntaxError",
     "evalue": "invalid syntax (<ipython-input-4-515cbbff126d>, line 1)",
     "output_type": "error",
     "traceback": [
      "\u001b[0;36m  File \u001b[0;32m\"<ipython-input-4-515cbbff126d>\"\u001b[0;36m, line \u001b[0;32m1\u001b[0m\n\u001b[0;31m    import tensorflow-gpu as tff\u001b[0m\n\u001b[0m                     ^\u001b[0m\n\u001b[0;31mSyntaxError\u001b[0m\u001b[0;31m:\u001b[0m invalid syntax\n"
     ]
    }
   ],
   "source": [
    "import tensorflow-gpu as tff"
   ]
  },
  {
   "cell_type": "code",
   "execution_count": 3,
   "metadata": {},
   "outputs": [
    {
     "name": "stdout",
     "output_type": "stream",
     "text": [
      "Collecting tensorflow-gpu\n",
      "  Downloading tensorflow_gpu-2.4.1-cp37-cp37m-manylinux2010_x86_64.whl (394.3 MB)\n",
      "\u001b[K     |████████████████████████████████| 394.3 MB 21 kB/s s eta 0:00:01\n",
      "\u001b[?25hRequirement already satisfied: protobuf>=3.9.2 in /home/robin/.local/lib/python3.7/site-packages (from tensorflow-gpu) (3.11.1)\n",
      "Requirement already satisfied: gast==0.3.3 in /home/robin/anaconda3/lib/python3.7/site-packages (from tensorflow-gpu) (0.3.3)\n",
      "Collecting wrapt~=1.12.1\n",
      "  Downloading wrapt-1.12.1.tar.gz (27 kB)\n",
      "Requirement already satisfied: astunparse~=1.6.3 in /home/robin/anaconda3/lib/python3.7/site-packages (from tensorflow-gpu) (1.6.3)\n",
      "Collecting wheel~=0.35\n",
      "  Downloading wheel-0.36.2-py2.py3-none-any.whl (35 kB)\n",
      "Requirement already satisfied: keras-preprocessing~=1.1.2 in /home/robin/anaconda3/lib/python3.7/site-packages (from tensorflow-gpu) (1.1.2)\n",
      "Requirement already satisfied: absl-py~=0.10 in /home/robin/anaconda3/lib/python3.7/site-packages (from tensorflow-gpu) (0.11.0)\n",
      "Requirement already satisfied: tensorboard~=2.4 in /home/robin/anaconda3/lib/python3.7/site-packages (from tensorflow-gpu) (2.4.0)\n",
      "Collecting google-pasta~=0.2\n",
      "  Downloading google_pasta-0.2.0-py3-none-any.whl (57 kB)\n",
      "\u001b[K     |████████████████████████████████| 57 kB 5.9 MB/s  eta 0:00:01\n",
      "\u001b[?25hCollecting opt-einsum~=3.3.0\n",
      "  Downloading opt_einsum-3.3.0-py3-none-any.whl (65 kB)\n",
      "\u001b[K     |████████████████████████████████| 65 kB 4.3 MB/s  eta 0:00:01\n",
      "\u001b[?25hCollecting grpcio~=1.32.0\n",
      "  Downloading grpcio-1.32.0-cp37-cp37m-manylinux2014_x86_64.whl (3.8 MB)\n",
      "\u001b[K     |████████████████████████████████| 3.8 MB 12.8 MB/s eta 0:00:01\n",
      "\u001b[?25hRequirement already satisfied: h5py~=2.10.0 in /home/robin/anaconda3/lib/python3.7/site-packages (from tensorflow-gpu) (2.10.0)\n",
      "Requirement already satisfied: termcolor~=1.1.0 in /home/robin/anaconda3/lib/python3.7/site-packages (from tensorflow-gpu) (1.1.0)\n",
      "Requirement already satisfied: six~=1.15.0 in /home/robin/anaconda3/lib/python3.7/site-packages (from tensorflow-gpu) (1.15.0)\n",
      "Requirement already satisfied: numpy~=1.19.2 in /home/robin/anaconda3/lib/python3.7/site-packages (from tensorflow-gpu) (1.19.4)\n",
      "Requirement already satisfied: flatbuffers~=1.12.0 in /home/robin/anaconda3/lib/python3.7/site-packages (from tensorflow-gpu) (1.12)\n",
      "Requirement already satisfied: typing-extensions~=3.7.4 in /home/robin/anaconda3/lib/python3.7/site-packages (from tensorflow-gpu) (3.7.4.3)\n",
      "Collecting tensorflow-estimator<2.5.0,>=2.4.0\n",
      "  Downloading tensorflow_estimator-2.4.0-py2.py3-none-any.whl (462 kB)\n",
      "\u001b[K     |████████████████████████████████| 462 kB 21.9 MB/s eta 0:00:01\n",
      "\u001b[?25hRequirement already satisfied: setuptools in /home/robin/anaconda3/lib/python3.7/site-packages (from protobuf>=3.9.2->tensorflow-gpu) (50.3.2)\n",
      "Requirement already satisfied: requests<3,>=2.21.0 in /home/robin/anaconda3/lib/python3.7/site-packages (from tensorboard~=2.4->tensorflow-gpu) (2.25.0)\n",
      "Requirement already satisfied: werkzeug>=0.11.15 in /home/robin/anaconda3/lib/python3.7/site-packages (from tensorboard~=2.4->tensorflow-gpu) (0.16.0)\n",
      "Requirement already satisfied: google-auth<2,>=1.6.3 in /home/robin/anaconda3/lib/python3.7/site-packages (from tensorboard~=2.4->tensorflow-gpu) (1.11.2)\n",
      "Requirement already satisfied: markdown>=2.6.8 in /home/robin/anaconda3/lib/python3.7/site-packages (from tensorboard~=2.4->tensorflow-gpu) (3.2.1)\n",
      "Requirement already satisfied: tensorboard-plugin-wit>=1.6.0 in /home/robin/anaconda3/lib/python3.7/site-packages (from tensorboard~=2.4->tensorflow-gpu) (1.7.0)\n",
      "Requirement already satisfied: google-auth-oauthlib<0.5,>=0.4.1 in /home/robin/anaconda3/lib/python3.7/site-packages (from tensorboard~=2.4->tensorflow-gpu) (0.4.1)\n",
      "Requirement already satisfied: cachetools<5.0,>=2.0.0 in /home/robin/anaconda3/lib/python3.7/site-packages (from google-auth<2,>=1.6.3->tensorboard~=2.4->tensorflow-gpu) (4.0.0)\n",
      "Requirement already satisfied: pyasn1-modules>=0.2.1 in /home/robin/anaconda3/lib/python3.7/site-packages (from google-auth<2,>=1.6.3->tensorboard~=2.4->tensorflow-gpu) (0.2.8)\n",
      "Requirement already satisfied: rsa<4.1,>=3.1.4 in /home/robin/anaconda3/lib/python3.7/site-packages (from google-auth<2,>=1.6.3->tensorboard~=2.4->tensorflow-gpu) (4.0)\n",
      "Requirement already satisfied: requests-oauthlib>=0.7.0 in /home/robin/anaconda3/lib/python3.7/site-packages (from google-auth-oauthlib<0.5,>=0.4.1->tensorboard~=2.4->tensorflow-gpu) (1.3.0)\n",
      "Requirement already satisfied: pyasn1<0.5.0,>=0.4.6 in /home/robin/anaconda3/lib/python3.7/site-packages (from pyasn1-modules>=0.2.1->google-auth<2,>=1.6.3->tensorboard~=2.4->tensorflow-gpu) (0.4.8)\n",
      "Requirement already satisfied: idna<3,>=2.5 in /home/robin/anaconda3/lib/python3.7/site-packages (from requests<3,>=2.21.0->tensorboard~=2.4->tensorflow-gpu) (2.10)\n",
      "Requirement already satisfied: urllib3<1.27,>=1.21.1 in /home/robin/anaconda3/lib/python3.7/site-packages (from requests<3,>=2.21.0->tensorboard~=2.4->tensorflow-gpu) (1.26.2)\n",
      "Requirement already satisfied: certifi>=2017.4.17 in /home/robin/anaconda3/lib/python3.7/site-packages (from requests<3,>=2.21.0->tensorboard~=2.4->tensorflow-gpu) (2020.11.8)\n",
      "Requirement already satisfied: chardet<4,>=3.0.2 in /home/robin/anaconda3/lib/python3.7/site-packages (from requests<3,>=2.21.0->tensorboard~=2.4->tensorflow-gpu) (3.0.4)\n",
      "Requirement already satisfied: oauthlib>=3.0.0 in /home/robin/anaconda3/lib/python3.7/site-packages (from requests-oauthlib>=0.7.0->google-auth-oauthlib<0.5,>=0.4.1->tensorboard~=2.4->tensorflow-gpu) (3.1.0)\n",
      "Building wheels for collected packages: wrapt\n",
      "  Building wheel for wrapt (setup.py) ... \u001b[?25ldone\n",
      "\u001b[?25h  Created wheel for wrapt: filename=wrapt-1.12.1-cp37-cp37m-linux_x86_64.whl size=36035 sha256=372b9ef7b07817bb640501351048b6fce1b1ad49eb1571f413270cc0b9b5f0dc\n",
      "  Stored in directory: /home/robin/.cache/pip/wheels/62/76/4c/aa25851149f3f6d9785f6c869387ad82b3fd37582fa8147ac6\n",
      "Successfully built wrapt\n",
      "Installing collected packages: wheel, grpcio, wrapt, tensorflow-estimator, opt-einsum, google-pasta, tensorflow-gpu\n",
      "  Attempting uninstall: wheel\n",
      "    Found existing installation: wheel 0.33.6\n",
      "    Uninstalling wheel-0.33.6:\n",
      "      Successfully uninstalled wheel-0.33.6\n",
      "  Attempting uninstall: grpcio\n",
      "    Found existing installation: grpcio 1.27.2\n",
      "    Uninstalling grpcio-1.27.2:\n",
      "      Successfully uninstalled grpcio-1.27.2\n",
      "  Attempting uninstall: wrapt\n",
      "    Found existing installation: wrapt 1.11.2\n",
      "    Uninstalling wrapt-1.11.2:\n",
      "      Successfully uninstalled wrapt-1.11.2\n",
      "  Attempting uninstall: tensorflow-estimator\n",
      "    Found existing installation: tensorflow-estimator 2.3.0\n",
      "    Uninstalling tensorflow-estimator-2.3.0:\n",
      "      Successfully uninstalled tensorflow-estimator-2.3.0\n",
      "  Attempting uninstall: opt-einsum\n",
      "    Found existing installation: opt-einsum 3.1.0\n",
      "    Uninstalling opt-einsum-3.1.0:\n",
      "      Successfully uninstalled opt-einsum-3.1.0\n",
      "  Attempting uninstall: google-pasta\n",
      "    Found existing installation: google-pasta 0.1.8\n",
      "    Uninstalling google-pasta-0.1.8:\n",
      "      Successfully uninstalled google-pasta-0.1.8\n",
      "\u001b[31mERROR: pip's dependency resolver does not currently take into account all the packages that are installed. This behaviour is the source of the following dependency conflicts.\n",
      "tensorflow 2.3.1 requires numpy<1.19.0,>=1.16.0, but you have numpy 1.19.4 which is incompatible.\n",
      "tensorflow 2.3.1 requires tensorflow-estimator<2.4.0,>=2.3.0, but you have tensorflow-estimator 2.4.0 which is incompatible.\n",
      "astroid 2.3.1 requires six==1.12, but you have six 1.15.0 which is incompatible.\n",
      "astroid 2.3.1 requires wrapt==1.11.*, but you have wrapt 1.12.1 which is incompatible.\u001b[0m\n",
      "Successfully installed google-pasta-0.2.0 grpcio-1.32.0 opt-einsum-3.3.0 tensorflow-estimator-2.4.0 tensorflow-gpu-2.4.1 wheel-0.36.2 wrapt-1.12.1\n"
     ]
    }
   ],
   "source": [
    "!pip install tensorflow-gpu -U"
   ]
  },
  {
   "cell_type": "code",
   "execution_count": 6,
   "metadata": {},
   "outputs": [
    {
     "data": {
      "text/plain": [
       "[]"
      ]
     },
     "execution_count": 6,
     "metadata": {},
     "output_type": "execute_result"
    }
   ],
   "source": [
    "tf.config.list_physical_devices('GPU')"
   ]
  },
  {
   "cell_type": "code",
   "execution_count": 5,
   "metadata": {},
   "outputs": [],
   "source": [
    "import tensorflow as tf\n",
    "\n",
    "#in case CUDA is causing problems...\n",
    "tf.config.set_visible_devices([], 'GPU')"
   ]
  },
  {
   "cell_type": "code",
   "execution_count": null,
   "metadata": {},
   "outputs": [],
   "source": [
    "bnn_experiment()"
   ]
  },
  {
   "cell_type": "markdown",
   "metadata": {},
   "source": [
    "## Custom BNN (Testing)\n",
    "If one preferbly runs only specific hyperparameters not used in the paper one can run the following cell.\n",
    "\n",
    "and the running time can be reduced by decreasing \n",
    "* total_runs (from original 5)\n",
    "* num_rounds (from original 10)"
   ]
  },
  {
   "cell_type": "code",
   "execution_count": null,
   "metadata": {},
   "outputs": [],
   "source": [
    "bnn_res = run_bnn(total_runs=5,num_rounds=10,num_data_per_round=2_500,epochs=500,seed=0)\n",
    "bcnn_post = bnn_res[0]\n",
    "bcnn_prior = bnn_res[1]\n",
    "bcnn_time = bnn_res[2]"
   ]
  },
  {
   "cell_type": "code",
   "execution_count": null,
   "metadata": {},
   "outputs": [],
   "source": [
    "ID = 'data'\n",
    "np.save(f'{ID}/bcnn_{ID}_post', bcnn_post)\n",
    "np.save(f'{ID}/bcnn_{ID}_time', bcnn_time)"
   ]
  }
 ],
 "metadata": {
  "kernelspec": {
   "display_name": "Python 3",
   "language": "python",
   "name": "python3"
  },
  "language_info": {
   "codemirror_mode": {
    "name": "ipython",
    "version": 3
   },
   "file_extension": ".py",
   "mimetype": "text/x-python",
   "name": "python",
   "nbconvert_exporter": "python",
   "pygments_lexer": "ipython3",
   "version": "3.7.4"
  }
 },
 "nbformat": 4,
 "nbformat_minor": 4
}
