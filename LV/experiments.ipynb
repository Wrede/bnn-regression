{
 "cells": [
  {
   "cell_type": "code",
   "execution_count": null,
   "metadata": {},
   "outputs": [],
   "source": [
    "from run_bnn import bnn_experiment, run_bnn\n",
    "from run_sbi import sbi_experiment, run_snpe, count_parameters"
   ]
  },
  {
   "cell_type": "markdown",
   "metadata": {},
   "source": [
    "# Run ABC (Reproducibility)\n",
    "run the script run_abc.py to generate all the necessary data from the ABC-SMC sampler. Alternatively one can directly discover and tune the notebook: abc_smc.ipynb.\n",
    "\n",
    "Will compute and store the following files \n",
    "* smcabc_posterior_5gen.npy - posterior samples\n",
    "* smcabc_posterior_5gen_time.npy - elapsed time\n",
    "* smcabc_posterior_5gen_res.npy - posterior object"
   ]
  },
  {
   "cell_type": "code",
   "execution_count": null,
   "metadata": {},
   "outputs": [],
   "source": [
    "%run run_abc.py"
   ]
  },
  {
   "cell_type": "markdown",
   "metadata": {},
   "source": [
    "# Run SNPE-C (reproducibility)\n",
    "And finally run the SNPE (sbi package) script.\n",
    "\n",
    "Generating the following files\n",
    "* SBI_10_10gen_large.npy - sbi posterior object* SBI_10_10gen_large_sample.npy ' posterior samples\n",
    "* SBI_10_10gen_large_sample_times.npy - elapsed times"
   ]
  },
  {
   "cell_type": "code",
   "execution_count": null,
   "metadata": {},
   "outputs": [],
   "source": [
    "sbi_experiment()"
   ]
  },
  {
   "cell_type": "markdown",
   "metadata": {},
   "source": [
    "## Custom SNPE (Testing)\n",
    "Similar to BNN we supply the cell for a more custom run of the SNPE call, however, here we only easly allow to tune the number of runs and generations (rounds in paper)."
   ]
  },
  {
   "cell_type": "code",
   "execution_count": null,
   "metadata": {},
   "outputs": [],
   "source": [
    "sbi_post, sbi_times, snpe_posteriors = run_snpe(total_runs=1, num_generation=1, seed=0)"
   ]
  },
  {
   "cell_type": "code",
   "execution_count": null,
   "metadata": {},
   "outputs": [],
   "source": [
    "ID = 'data'\n",
    "np.save(f'{ID}/sbi_{ID}_post', sbi_post)\n",
    "np.save(f'{ID}/sbi_{ID}_time', sbi_time)"
   ]
  },
  {
   "cell_type": "code",
   "execution_count": null,
   "metadata": {},
   "outputs": [],
   "source": [
    "# Take the DirectPosterior to get the NN\n",
    "test = snpe_posteriors[0]"
   ]
  },
  {
   "cell_type": "code",
   "execution_count": null,
   "metadata": {},
   "outputs": [],
   "source": [
    "count_parameters(test.net)"
   ]
  },
  {
   "cell_type": "markdown",
   "metadata": {},
   "source": [
    "# Run BNN (Reproducibility)\n",
    "Similar to above, the script run_bnn.py will generate all the files from the experiments regarding the BCNN approach explored in the paper.\n",
    "\n",
    "## The following files are produced\n",
    "posterior samples from 5 classed (bins), repeated 5 times, a 8 step iteration, with 0.05 threshold. With the time elapsed.\n",
    "* bnn_res_5_5round_8gen_theta_thresh.npy \n",
    "* bnn_res_5_5round_8gen_time_thresh.npy\n",
    "\n",
    "posterior samples from 4 bins, repeated 5 times, a 8 step iteration, with 0.05 threshold. With the time elapsed.\n",
    "* bnn_res_4_5round_8gen_theta_thresh.npy - posterior samples from 4 bins, repeated 5 times, a 8 step iteration, with 0.05 threshold.\n",
    "* bnn_res_4_5round_8gen_time_thresh.npy - time for above\n",
    "\n",
    "posterior samples from 3 bins, repeated 5 times, a 8 step iteration, with 0.05 threshold. With the time elapsed.\n",
    "* bnn_res_3_5round_8gen_theta_thresh.npy - posterior samples from 3 bins, repeated 5 times, a 8 step iteration, with 0.05 threshold.\n",
    "* bnn_res_3_5round_8gen_time_thresh.npy - time for above\n",
    "\n",
    "posterior samples from 5 bins, repeated 5 times, a 8 step iteration, with no threshold. With the time elapsed.\n",
    "* bnn_res_5_5round_8gen_theta.npy - posterior samples from 5 bins, repeated 5 times, a 8 step iteration, with no threshold.\n",
    "* bnn_res_5_5round_8gen_theta.npy - time for above"
   ]
  },
  {
   "cell_type": "code",
   "execution_count": null,
   "metadata": {},
   "outputs": [],
   "source": [
    "import tensorflow as tf\n",
    "\n",
    "#in case CUDA is causing problems...\n",
    "tf.config.set_visible_devices([], 'GPU')"
   ]
  },
  {
   "cell_type": "code",
   "execution_count": null,
   "metadata": {},
   "outputs": [],
   "source": [
    "bnn_experiment()"
   ]
  },
  {
   "cell_type": "markdown",
   "metadata": {},
   "source": [
    "## Custom BNN (Testing)\n",
    "If one preferbly runs only specific hyperparameters not used in the paper one can run the following cell, and potentially tune \n",
    "* num_bins\n",
    "* thresh\n",
    "\n",
    "and the running time can be reduced by decreasing \n",
    "* max_rounds (from original 5)\n",
    "* max_gen (from original 8)"
   ]
  },
  {
   "cell_type": "code",
   "execution_count": null,
   "metadata": {},
   "outputs": [],
   "source": [
    "bnn_res = run_bnn(max_rounds=1,max_gen=3,Ndata=1000,seed=0, multi_dim=True, num_bins=5,thresh=0.05, verbose=True)\n",
    "bcnn_post = bnn_res['theta']\n",
    "bcnn_time = bnn_res['time']"
   ]
  },
  {
   "cell_type": "code",
   "execution_count": null,
   "metadata": {},
   "outputs": [],
   "source": [
    "ID = 'data'\n",
    "np.save(f'{ID}/bcnn_{ID}_post', bcnn_post)\n",
    "np.save(f'{ID}/bcnn_{ID}_time', bcnn_time)"
   ]
  }
 ],
 "metadata": {
  "kernelspec": {
   "display_name": "Python 3",
   "language": "python",
   "name": "python3"
  },
  "language_info": {
   "codemirror_mode": {
    "name": "ipython",
    "version": 3
   },
   "file_extension": ".py",
   "mimetype": "text/x-python",
   "name": "python",
   "nbconvert_exporter": "python",
   "pygments_lexer": "ipython3",
   "version": "3.8.5"
  }
 },
 "nbformat": 4,
 "nbformat_minor": 4
}
